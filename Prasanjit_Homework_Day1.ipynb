{
 "cells": [
  {
   "cell_type": "markdown",
   "metadata": {},
   "source": [
    "# Exercise 1"
   ]
  },
  {
   "cell_type": "code",
   "execution_count": 1,
   "metadata": {
    "collapsed": true
   },
   "outputs": [],
   "source": [
    "import pandas as pd"
   ]
  },
  {
   "cell_type": "code",
   "execution_count": 89,
   "metadata": {
    "collapsed": false
   },
   "outputs": [],
   "source": [
    "Input_Text_Dictionary = {}\n",
    "def alphabets(x):\n",
    "    x.lower()\n",
    "    for element in x:\n",
    "        Input_Text_Dictionary[alphabet] = Input_Text_Dictionary.get(alphabet, 0)+1\n",
    "        print Input_Text_Dictionary"
   ]
  },
  {
   "cell_type": "code",
   "execution_count": 90,
   "metadata": {
    "collapsed": false
   },
   "outputs": [],
   "source": [
    "Text_Dictionary = {}\n",
    "for alphabet in 'ThiS is String with Upper and lower case Letters':\n",
    "    Text_Dictionary[alphabet.lower()] = Text_Dictionary.get(alphabet.lower(), 0)+1"
   ]
  },
  {
   "cell_type": "code",
   "execution_count": 91,
   "metadata": {
    "collapsed": false
   },
   "outputs": [],
   "source": [
    "del Text_Dictionary[' ']"
   ]
  },
  {
   "cell_type": "code",
   "execution_count": 92,
   "metadata": {
    "collapsed": false
   },
   "outputs": [],
   "source": [
    "Table  = pd.Series(Text_Dictionary,index=Text_Dictionary.keys())"
   ]
  },
  {
   "cell_type": "code",
   "execution_count": 93,
   "metadata": {
    "collapsed": false
   },
   "outputs": [
    {
     "name": "stdout",
     "output_type": "stream",
     "text": [
      "a    2\n",
      "c    1\n",
      "e    5\n",
      "d    1\n",
      "g    1\n",
      "i    4\n",
      "h    2\n",
      "l    2\n",
      "o    1\n",
      "n    2\n",
      "p    2\n",
      "s    5\n",
      "r    4\n",
      "u    1\n",
      "t    5\n",
      "w    2\n",
      "dtype: int64\n"
     ]
    }
   ],
   "source": [
    "print Table"
   ]
  },
  {
   "cell_type": "markdown",
   "metadata": {},
   "source": [
    "# Exercise 2"
   ]
  },
  {
   "cell_type": "code",
   "execution_count": 132,
   "metadata": {
    "collapsed": false
   },
   "outputs": [
    {
     "data": {
      "text/plain": [
       "35"
      ]
     },
     "execution_count": 132,
     "metadata": {},
     "output_type": "execute_result"
    }
   ],
   "source": [
    "d = {\"apples\": 15, \"bananas\": 35, \"grapes\": 12}\n",
    "d[\"bananas\"]"
   ]
  },
  {
   "cell_type": "code",
   "execution_count": 133,
   "metadata": {
    "collapsed": false
   },
   "outputs": [
    {
     "data": {
      "text/plain": [
       "4"
      ]
     },
     "execution_count": 133,
     "metadata": {},
     "output_type": "execute_result"
    }
   ],
   "source": [
    "d[\"oranges\"] = 20\n",
    "len(d)"
   ]
  },
  {
   "cell_type": "code",
   "execution_count": 134,
   "metadata": {
    "collapsed": false
   },
   "outputs": [
    {
     "data": {
      "text/plain": [
       "True"
      ]
     },
     "execution_count": 134,
     "metadata": {},
     "output_type": "execute_result"
    }
   ],
   "source": [
    "\"grapes\" in d"
   ]
  },
  {
   "cell_type": "code",
   "execution_count": 135,
   "metadata": {
    "collapsed": false
   },
   "outputs": [
    {
     "ename": "KeyError",
     "evalue": "'pears'",
     "output_type": "error",
     "traceback": [
      "\u001b[0;31m---------------------------------------------------------------------------\u001b[0m",
      "\u001b[0;31mKeyError\u001b[0m                                  Traceback (most recent call last)",
      "\u001b[0;32m<ipython-input-135-fd5e266bd276>\u001b[0m in \u001b[0;36m<module>\u001b[0;34m()\u001b[0m\n\u001b[0;32m----> 1\u001b[0;31m \u001b[0md\u001b[0m\u001b[0;34m[\u001b[0m\u001b[0;34m\"pears\"\u001b[0m\u001b[0;34m]\u001b[0m\u001b[0;34m\u001b[0m\u001b[0m\n\u001b[0m",
      "\u001b[0;31mKeyError\u001b[0m: 'pears'"
     ]
    }
   ],
   "source": [
    "d[\"pears\"]"
   ]
  },
  {
   "cell_type": "code",
   "execution_count": 136,
   "metadata": {
    "collapsed": false
   },
   "outputs": [
    {
     "data": {
      "text/plain": [
       "0"
      ]
     },
     "execution_count": 136,
     "metadata": {},
     "output_type": "execute_result"
    }
   ],
   "source": [
    "d.get(\"pears\",0)"
   ]
  },
  {
   "cell_type": "code",
   "execution_count": 137,
   "metadata": {
    "collapsed": false
   },
   "outputs": [
    {
     "name": "stdout",
     "output_type": "stream",
     "text": [
      "['apples', 'bananas', 'grapes', 'oranges']\n"
     ]
    }
   ],
   "source": [
    "fruits = list(d.keys())\n",
    "fruits.sort()\n",
    "print(fruits)"
   ]
  },
  {
   "cell_type": "code",
   "execution_count": 138,
   "metadata": {
    "collapsed": false
   },
   "outputs": [
    {
     "data": {
      "text/plain": [
       "False"
      ]
     },
     "execution_count": 138,
     "metadata": {},
     "output_type": "execute_result"
    }
   ],
   "source": [
    "del d[\"apples\"]\n",
    "\"apples\" in d"
   ]
  },
  {
   "cell_type": "code",
   "execution_count": null,
   "metadata": {
    "collapsed": true
   },
   "outputs": [],
   "source": []
  },
  {
   "cell_type": "markdown",
   "metadata": {},
   "source": [
    "# Withe the below changes to the add_fruit function (as shown in input line 165) - the subsequent tests ran succesfully"
   ]
  },
  {
   "cell_type": "code",
   "execution_count": 270,
   "metadata": {
    "collapsed": false
   },
   "outputs": [],
   "source": [
    "def add_fruit(inventory, fruit, quantity=0):\n",
    "    if inventory.has_key(fruit):\n",
    "        inventory[fruit] += quantity\n",
    "    else:\n",
    "        inventory[fruit] = quantity"
   ]
  },
  {
   "cell_type": "code",
   "execution_count": 271,
   "metadata": {
    "collapsed": false
   },
   "outputs": [],
   "source": [
    "new_inventory = {}\n",
    "add_fruit(new_inventory, \"strawberries\", 10)"
   ]
  },
  {
   "cell_type": "code",
   "execution_count": 272,
   "metadata": {
    "collapsed": false
   },
   "outputs": [
    {
     "data": {
      "text/plain": [
       "True"
      ]
     },
     "execution_count": 272,
     "metadata": {},
     "output_type": "execute_result"
    }
   ],
   "source": [
    "\"strawberries\" in new_inventory"
   ]
  },
  {
   "cell_type": "code",
   "execution_count": 273,
   "metadata": {
    "collapsed": false
   },
   "outputs": [
    {
     "data": {
      "text/plain": [
       "10"
      ]
     },
     "execution_count": 273,
     "metadata": {},
     "output_type": "execute_result"
    }
   ],
   "source": [
    "new_inventory[\"strawberries\"]"
   ]
  },
  {
   "cell_type": "code",
   "execution_count": 274,
   "metadata": {
    "collapsed": false
   },
   "outputs": [
    {
     "data": {
      "text/plain": [
       "['strawberries']"
      ]
     },
     "execution_count": 274,
     "metadata": {},
     "output_type": "execute_result"
    }
   ],
   "source": [
    "new_inventory.keys()"
   ]
  },
  {
   "cell_type": "code",
   "execution_count": 275,
   "metadata": {
    "collapsed": true
   },
   "outputs": [],
   "source": [
    "add_fruit(new_inventory, \"strawberries\", 25)"
   ]
  },
  {
   "cell_type": "code",
   "execution_count": 276,
   "metadata": {
    "collapsed": false
   },
   "outputs": [
    {
     "data": {
      "text/plain": [
       "35"
      ]
     },
     "execution_count": 276,
     "metadata": {},
     "output_type": "execute_result"
    }
   ],
   "source": [
    "new_inventory[\"strawberries\"]"
   ]
  },
  {
   "cell_type": "raw",
   "metadata": {},
   "source": []
  },
  {
   "cell_type": "markdown",
   "metadata": {},
   "source": [
    "# Exercise 3"
   ]
  },
  {
   "cell_type": "code",
   "execution_count": 7,
   "metadata": {
    "collapsed": false
   },
   "outputs": [],
   "source": [
    "book_text = open('/Users/z013kmz/Desktop/DS_Training_Sept2016/Day1_Homework/book.txt', 'r')"
   ]
  },
  {
   "cell_type": "code",
   "execution_count": 8,
   "metadata": {
    "collapsed": false
   },
   "outputs": [],
   "source": [
    "text = book_text.readlines()"
   ]
  },
  {
   "cell_type": "code",
   "execution_count": 9,
   "metadata": {
    "collapsed": true
   },
   "outputs": [],
   "source": [
    "import sys, re, string\n",
    "def alphaNumericWordTokenizer(line):\n",
    "    #preprocess the string; \n",
    "    #  focus on alphanumeric token\n",
    "    #  replace repeating spaces/tab with a single space\n",
    "    regex = re.compile('[%s]' % re.escape(string.punctuation))\n",
    "    #replace each punctuation character with a space\n",
    "    line = regex.sub(' ', line.lower())  \n",
    "\n",
    "    #replace multiple spacees with a single space\n",
    "    line = re.sub( '\\s+', ' ', line) \n",
    "    # split the line into words\n",
    "    words = line.split(\" \")\n",
    "    return(words)"
   ]
  },
  {
   "cell_type": "code",
   "execution_count": 10,
   "metadata": {
    "collapsed": false
   },
   "outputs": [],
   "source": [
    "counts = {}\n",
    "for line in text:\n",
    "    words = alphaNumericWordTokenizer(line)\n",
    "    for w in words:\n",
    "        counts[w] = counts.get (w, 0) +1"
   ]
  },
  {
   "cell_type": "code",
   "execution_count": 11,
   "metadata": {
    "collapsed": false
   },
   "outputs": [
    {
     "data": {
      "text/plain": [
       "{'': 5489,\n",
       " 'secondly': 2,\n",
       " 'pardon': 6,\n",
       " 'limited': 5,\n",
       " 'saves': 1,\n",
       " 'knelt': 1,\n",
       " 'four': 8,\n",
       " 'sleep': 6,\n",
       " 'hanging': 3,\n",
       " 'ringlets': 2,\n",
       " 'oldest': 1,\n",
       " 'hate': 2,\n",
       " 'assembled': 2,\n",
       " 'forget': 2,\n",
       " 'whose': 2,\n",
       " 'lory': 7,\n",
       " 'calculate': 1,\n",
       " 'paris': 2,\n",
       " 'blacking': 1,\n",
       " 'presents': 2,\n",
       " 'whatsoever': 2,\n",
       " 'under': 22,\n",
       " 'inwards': 1,\n",
       " 'sorry': 1,\n",
       " 'worth': 4,\n",
       " 'updated': 2,\n",
       " 'music': 3,\n",
       " 'void': 1,\n",
       " 'rise': 1,\n",
       " 'every': 12,\n",
       " 'jack': 1,\n",
       " 'govern': 1,\n",
       " 'seals': 1,\n",
       " 'fireplace': 1,\n",
       " 'school': 6,\n",
       " 'prize': 1,\n",
       " 'wooden': 1,\n",
       " 'pinch': 2,\n",
       " 'persisted': 2,\n",
       " 'favoured': 1,\n",
       " 'leaders': 1,\n",
       " 'tired': 7,\n",
       " 'efforts': 3,\n",
       " 'feathers': 1,\n",
       " 'request': 1,\n",
       " 'elegant': 1,\n",
       " 'likely': 5,\n",
       " 'louder': 1,\n",
       " 'machines': 1,\n",
       " 'shining': 1,\n",
       " 'even': 21,\n",
       " 'meekly': 2,\n",
       " 'errors': 1,\n",
       " 'hide': 1,\n",
       " 'pace': 1,\n",
       " 'solemn': 3,\n",
       " 'thunder': 1,\n",
       " 'near': 15,\n",
       " 'poison': 3,\n",
       " 'above': 3,\n",
       " 'conduct': 1,\n",
       " 'new': 8,\n",
       " 'increasing': 1,\n",
       " 'ever': 21,\n",
       " 'told': 6,\n",
       " 'join': 9,\n",
       " 'never': 48,\n",
       " 'wrapping': 1,\n",
       " 'here': 51,\n",
       " 'hundreds': 1,\n",
       " 'met': 4,\n",
       " 'protection': 1,\n",
       " 'possibility': 1,\n",
       " 'hers': 4,\n",
       " 'cardboard': 1,\n",
       " 'shriek': 5,\n",
       " 'dry': 8,\n",
       " 'property': 2,\n",
       " 'daughter': 1,\n",
       " 'leaves': 6,\n",
       " 'changed': 8,\n",
       " '84116': 1,\n",
       " 'reports': 1,\n",
       " 'swam': 5,\n",
       " 'barrowful': 2,\n",
       " 'smoke': 1,\n",
       " 'changes': 2,\n",
       " 'ventured': 4,\n",
       " 'golden': 7,\n",
       " 'secure': 1,\n",
       " 'owed': 1,\n",
       " 'ground': 8,\n",
       " 'explained': 1,\n",
       " 'angrily': 9,\n",
       " 'feelings': 2,\n",
       " 'brought': 3,\n",
       " 'patience': 1,\n",
       " 'moral': 8,\n",
       " 'guests': 3,\n",
       " 'drowned': 1,\n",
       " 'punching': 1,\n",
       " 'txt': 1,\n",
       " 'negligence': 1,\n",
       " 'spoke': 17,\n",
       " 'would': 83,\n",
       " 'arms': 6,\n",
       " 'insult': 1,\n",
       " 'distributing': 7,\n",
       " 'overhead': 1,\n",
       " 'therefore': 1,\n",
       " 'leant': 1,\n",
       " 'survive': 1,\n",
       " 'fainting': 1,\n",
       " 'tell': 32,\n",
       " 'breathe': 3,\n",
       " 'paperwork': 1,\n",
       " 'posting': 1,\n",
       " 'evening': 5,\n",
       " 'hurt': 3,\n",
       " 'grief': 1,\n",
       " 'glass': 10,\n",
       " 'excellent': 2,\n",
       " 'adjourn': 1,\n",
       " '90': 2,\n",
       " 'hole': 5,\n",
       " 'hold': 11,\n",
       " 'outdated': 1,\n",
       " 'must': 54,\n",
       " 'me': 68,\n",
       " 'word': 11,\n",
       " '1994': 1,\n",
       " 'work': 53,\n",
       " 'dodo': 13,\n",
       " 'worm': 1,\n",
       " 'roof': 6,\n",
       " 'obstacle': 1,\n",
       " 'elbow': 3,\n",
       " 'my': 58,\n",
       " 'shook': 9,\n",
       " 'rosetree': 1,\n",
       " 'quiver': 1,\n",
       " 'serpent': 9,\n",
       " 'give': 16,\n",
       " 'unjust': 1,\n",
       " 'flung': 1,\n",
       " 'organized': 1,\n",
       " 'frighten': 1,\n",
       " 'want': 9,\n",
       " 'extraordinary': 2,\n",
       " 'keep': 13,\n",
       " 'returned': 2,\n",
       " 'end': 20,\n",
       " 'turn': 11,\n",
       " 'complaining': 1,\n",
       " 'agony': 1,\n",
       " 'returning': 1,\n",
       " 'damage': 2,\n",
       " 'machine': 1,\n",
       " 'how': 72,\n",
       " 'hot': 7,\n",
       " 'answer': 9,\n",
       " 'truthful': 1,\n",
       " 'poker': 1,\n",
       " 'flustered': 1,\n",
       " 'mouths': 4,\n",
       " 'lad': 1,\n",
       " 'ladder': 1,\n",
       " 'after': 43,\n",
       " 'containing': 1,\n",
       " 'wrong': 5,\n",
       " 'jumping': 4,\n",
       " 'lay': 4,\n",
       " 'curiosity': 5,\n",
       " 'law': 4,\n",
       " 'lap': 2,\n",
       " 'types': 1,\n",
       " 'attempt': 1,\n",
       " 'childhood': 1,\n",
       " 'wink': 2,\n",
       " 'wriggling': 1,\n",
       " 'green': 4,\n",
       " 'aloud': 5,\n",
       " 'order': 3,\n",
       " 'wind': 2,\n",
       " 'wine': 2,\n",
       " 'executed': 6,\n",
       " 'office': 2,\n",
       " 'dreamed': 1,\n",
       " 'over': 40,\n",
       " 'prohibition': 1,\n",
       " 'london': 1,\n",
       " 'mabel': 4,\n",
       " 'before': 40,\n",
       " 'chatte': 1,\n",
       " 'fit': 3,\n",
       " 'somewhere': 3,\n",
       " 'lefthand': 2,\n",
       " 'fix': 2,\n",
       " 'writing': 9,\n",
       " 'better': 14,\n",
       " 'production': 1,\n",
       " 'fig': 1,\n",
       " 'glanced': 1,\n",
       " 'croquet': 9,\n",
       " 'weeks': 1,\n",
       " 'overcome': 1,\n",
       " 'then': 94,\n",
       " 'them': 88,\n",
       " 'slate': 4,\n",
       " 'safe': 2,\n",
       " 'break': 2,\n",
       " 'modification': 1,\n",
       " 'caterpillar': 28,\n",
       " 'they': 155,\n",
       " 'interrupt': 1,\n",
       " 'one': 106,\n",
       " 'bank': 3,\n",
       " 'pegs': 1,\n",
       " 'grammar': 1,\n",
       " 'meat': 1,\n",
       " 'alternately': 1,\n",
       " 'leading': 1,\n",
       " 'herald': 1,\n",
       " 'eleventh': 1,\n",
       " 'roast': 1,\n",
       " 'each': 9,\n",
       " 'went': 83,\n",
       " 'side': 17,\n",
       " 'bone': 1,\n",
       " 'mean': 10,\n",
       " 'calmly': 1,\n",
       " 'financial': 1,\n",
       " 'telescope': 3,\n",
       " 'fairly': 1,\n",
       " 'series': 1,\n",
       " 'dodged': 1,\n",
       " 'vote': 1,\n",
       " 'taught': 4,\n",
       " 'forgot': 2,\n",
       " 'flock': 1,\n",
       " 'sounds': 4,\n",
       " 'reminding': 1,\n",
       " 'velvet': 1,\n",
       " 'network': 1,\n",
       " 'tales': 1,\n",
       " 'sighing': 3,\n",
       " 'forty': 1,\n",
       " 'fellows': 1,\n",
       " 'content': 1,\n",
       " 're': 40,\n",
       " 'laid': 2,\n",
       " 'millennium': 1,\n",
       " 'surprise': 5,\n",
       " 'size': 13,\n",
       " 'forth': 8,\n",
       " 'foundation': 25,\n",
       " 'splashed': 1,\n",
       " 'stamping': 2,\n",
       " 'turning': 12,\n",
       " 'given': 2,\n",
       " 'free': 8,\n",
       " 'uglification': 2,\n",
       " 'whereupon': 1,\n",
       " 'mallets': 1,\n",
       " 'wanted': 4,\n",
       " 'telescopes': 1,\n",
       " 'enormous': 1,\n",
       " 'ate': 1,\n",
       " 'shelves': 2,\n",
       " 'writhing': 1,\n",
       " 'cackled': 1,\n",
       " 'messages': 2,\n",
       " 'days': 8,\n",
       " 'pence': 1,\n",
       " '000': 1,\n",
       " 'hopeless': 1,\n",
       " 'moving': 3,\n",
       " 'footsteps': 2,\n",
       " 'bite': 2,\n",
       " 'user': 3,\n",
       " 'enjoy': 1,\n",
       " 'already': 3,\n",
       " 'dunce': 1,\n",
       " 'curiouser': 2,\n",
       " 'synonymous': 1,\n",
       " 'encouraging': 2,\n",
       " 'hearing': 4,\n",
       " 'wash': 2,\n",
       " 'another': 22,\n",
       " 'wasn': 11,\n",
       " 'thoughtfully': 4,\n",
       " 'thick': 1,\n",
       " 'electronic': 27,\n",
       " 'awfully': 1,\n",
       " 'service': 1,\n",
       " 'indicate': 1,\n",
       " 'beauti': 1,\n",
       " 'xii': 1,\n",
       " 'top': 8,\n",
       " 'girls': 3,\n",
       " 'airs': 1,\n",
       " 'master': 4,\n",
       " 'too': 26,\n",
       " 'wildly': 2,\n",
       " 'legs': 3,\n",
       " 'bitter': 1,\n",
       " 'dogs': 3,\n",
       " 'listen': 7,\n",
       " 'consented': 1,\n",
       " 'ceiling': 1,\n",
       " 'solemnly': 4,\n",
       " 'took': 24,\n",
       " 'direct': 1,\n",
       " 'positively': 1,\n",
       " 'character': 1,\n",
       " 'begins': 4,\n",
       " 'distance': 8,\n",
       " 'coward': 1,\n",
       " 'tree': 8,\n",
       " 'second': 6,\n",
       " 'seated': 1,\n",
       " 'project': 87,\n",
       " 'matter': 9,\n",
       " 'splendidly': 1,\n",
       " 'exclaimed': 6,\n",
       " 'flame': 1,\n",
       " 'friend': 3,\n",
       " 'askance': 1,\n",
       " 'feeling': 7,\n",
       " 'chrysalis': 1,\n",
       " 'ran': 16,\n",
       " 'shyly': 1,\n",
       " 'modern': 1,\n",
       " 'mind': 11,\n",
       " 'mine': 10,\n",
       " 'sorrow': 2,\n",
       " 'talking': 17,\n",
       " 'rat': 1,\n",
       " 'manner': 2,\n",
       " '4557': 1,\n",
       " 'seen': 15,\n",
       " 'seem': 8,\n",
       " 'tells': 2,\n",
       " 'eels': 1,\n",
       " 'strength': 1,\n",
       " 'thoroughly': 2,\n",
       " 'eagerly': 8,\n",
       " 'subjects': 1,\n",
       " 'doors': 2,\n",
       " 'laughed': 2,\n",
       " 'gravy': 1,\n",
       " 'nobody': 8,\n",
       " 'though': 11,\n",
       " 'ebook': 9,\n",
       " 'regular': 2,\n",
       " 'mouth': 10,\n",
       " 'plenty': 2,\n",
       " '801': 1,\n",
       " 'grave': 3,\n",
       " 'zealand': 1,\n",
       " 'don': 61,\n",
       " 'incomplete': 1,\n",
       " 'alarm': 2,\n",
       " 'm': 63,\n",
       " 'dog': 3,\n",
       " 'swamp': 1,\n",
       " 'ridiculous': 1,\n",
       " 'sun': 2,\n",
       " 'notion': 3,\n",
       " 'came': 40,\n",
       " 'decidedly': 4,\n",
       " 'saying': 15,\n",
       " 'currants': 1,\n",
       " 'pardoned': 1,\n",
       " 'pope': 1,\n",
       " 'lewis': 4,\n",
       " 'queen': 75,\n",
       " 'sage': 1,\n",
       " 'ending': 2,\n",
       " 'attempts': 1,\n",
       " 'defects': 1,\n",
       " 'queer': 12,\n",
       " 'earth': 4,\n",
       " 'toast': 1,\n",
       " 'flowers': 2,\n",
       " 'spite': 1,\n",
       " 'explain': 10,\n",
       " 'folded': 3,\n",
       " 'sugar': 2,\n",
       " 'deepest': 1,\n",
       " 'disgust': 1,\n",
       " 'executive': 1,\n",
       " 'do': 98,\n",
       " 'cartwheels': 1,\n",
       " 'squeaking': 2,\n",
       " 'watch': 8,\n",
       " 'coast': 1,\n",
       " 'frowning': 4,\n",
       " 'shutting': 2,\n",
       " 'cushion': 2,\n",
       " 'altogether': 5,\n",
       " 'frying': 1,\n",
       " 'nasty': 1,\n",
       " 'dr': 2,\n",
       " 'learned': 1,\n",
       " 'comply': 6,\n",
       " 'bat': 3,\n",
       " 'countries': 1,\n",
       " 'nicely': 2,\n",
       " 'anxiously': 14,\n",
       " 'shape': 1,\n",
       " 'licking': 1,\n",
       " 'method': 1,\n",
       " 'twice': 5,\n",
       " 'bad': 2,\n",
       " 'softly': 1,\n",
       " 'release': 1,\n",
       " 'explanations': 1,\n",
       " 'steam': 1,\n",
       " 'ears': 5,\n",
       " 'blew': 2,\n",
       " 'fair': 1,\n",
       " 'checks': 1,\n",
       " 'depends': 2,\n",
       " 'decided': 3,\n",
       " 'flashed': 1,\n",
       " 'cattle': 1,\n",
       " 'corrupt': 1,\n",
       " 'miserable': 2,\n",
       " 'mournfully': 1,\n",
       " 'best': 12,\n",
       " 'subject': 7,\n",
       " 'pebbles': 2,\n",
       " 'said': 462,\n",
       " 'away': 28,\n",
       " 'irs': 1,\n",
       " 'unable': 1,\n",
       " 'finger': 5,\n",
       " 'sorts': 3,\n",
       " 'approach': 1,\n",
       " 'preserve': 1,\n",
       " 'claws': 2,\n",
       " 'crossly': 1,\n",
       " 'interrupting': 2,\n",
       " 'terms': 22,\n",
       " '99712': 1,\n",
       " 'confusion': 5,\n",
       " 'weak': 2,\n",
       " 'however': 21,\n",
       " 'camomile': 1,\n",
       " 'twinkling': 4,\n",
       " 'drew': 5,\n",
       " 'extent': 1,\n",
       " 'picking': 2,\n",
       " 'improve': 1,\n",
       " 'pity': 3,\n",
       " 'received': 6,\n",
       " 'protect': 2,\n",
       " 'accident': 2,\n",
       " 'reported': 1,\n",
       " 'country': 3,\n",
       " 'ill': 2,\n",
       " 'cup': 2,\n",
       " 'adventures': 12,\n",
       " 'edgar': 1,\n",
       " 'players': 4,\n",
       " 'games': 1,\n",
       " 'treacle': 7,\n",
       " 'argue': 1,\n",
       " 'asked': 17,\n",
       " 'tone': 40,\n",
       " 'appeared': 8,\n",
       " 'royal': 2,\n",
       " 'lullaby': 1,\n",
       " 'height': 5,\n",
       " 'active': 2,\n",
       " 'wider': 1,\n",
       " 'beheaded': 3,\n",
       " 'merchantibility': 1,\n",
       " 'speak': 15,\n",
       " 'shouting': 2,\n",
       " 'tarts': 7,\n",
       " 'three': 28,\n",
       " 'been': 38,\n",
       " 'quarrelling': 2,\n",
       " 'chimneys': 1,\n",
       " 'much': 52,\n",
       " 'axis': 1,\n",
       " 'interest': 1,\n",
       " 'schoolroom': 1,\n",
       " 'expected': 1,\n",
       " 'lovely': 2,\n",
       " 'threw': 2,\n",
       " 'natured': 1,\n",
       " 'life': 13,\n",
       " 'wags': 1,\n",
       " 'mushroom': 8,\n",
       " 'twinkled': 1,\n",
       " 'concerning': 2,\n",
       " 'grunt': 1,\n",
       " 'uncommon': 1,\n",
       " 'locations': 2,\n",
       " 'child': 11,\n",
       " 'catch': 4,\n",
       " 'doth': 3,\n",
       " 'teapot': 1,\n",
       " 'has': 9,\n",
       " 'disclaimers': 1,\n",
       " 'lessen': 1,\n",
       " 'tastes': 1,\n",
       " 'air': 15,\n",
       " 'ugly': 2,\n",
       " 'lizard': 6,\n",
       " 'neat': 1,\n",
       " 'viii': 1,\n",
       " 'stopping': 1,\n",
       " 'voice': 48,\n",
       " 'employees': 2,\n",
       " 'mistake': 3,\n",
       " 'remembering': 1,\n",
       " 'ix': 1,\n",
       " 'seven': 6,\n",
       " 'compliance': 5,\n",
       " 'fourteenth': 1,\n",
       " 'played': 1,\n",
       " 'is': 135,\n",
       " 'it': 610,\n",
       " 'iv': 1,\n",
       " 'ii': 1,\n",
       " 'gloomily': 1,\n",
       " 'clinging': 1,\n",
       " 'in': 431,\n",
       " 'mouse': 44,\n",
       " 'if': 116,\n",
       " 'grown': 7,\n",
       " 'growl': 3,\n",
       " 'severity': 1,\n",
       " 'credit': 1,\n",
       " 'perform': 1,\n",
       " 'things': 33,\n",
       " 'make': 30,\n",
       " 'linked': 2,\n",
       " 'forehead': 2,\n",
       " 'damages': 4,\n",
       " 'unfortunate': 3,\n",
       " 'vegetable': 1,\n",
       " 'plates': 2,\n",
       " 'several': 5,\n",
       " 'couple': 1,\n",
       " 'bells': 1,\n",
       " 'youth': 6,\n",
       " 'tops': 1,\n",
       " 'hand': 21,\n",
       " 'delight': 3,\n",
       " 'marched': 1,\n",
       " 'dozing': 1,\n",
       " 'opportunity': 9,\n",
       " 'thoughts': 2,\n",
       " 'kid': 5,\n",
       " 'butter': 9,\n",
       " 'hearth': 1,\n",
       " 'kept': 13,\n",
       " 'matters': 2,\n",
       " 'settled': 3,\n",
       " 'possessed': 1,\n",
       " 'humble': 1,\n",
       " '809': 1,\n",
       " 'rome': 2,\n",
       " 'humbly': 2,\n",
       " 'impertinent': 1,\n",
       " 'hearts': 8,\n",
       " 'the': 1818,\n",
       " 'yours': 3,\n",
       " 'left': 14,\n",
       " 'just': 52,\n",
       " 'sentence': 8,\n",
       " 'distribute': 6,\n",
       " 'sleepy': 5,\n",
       " 'atheling': 1,\n",
       " 'verses': 4,\n",
       " 'identify': 1,\n",
       " 'farther': 1,\n",
       " 'yes': 13,\n",
       " 'yer': 4,\n",
       " 'yet': 25,\n",
       " 'electronically': 2,\n",
       " 'previous': 1,\n",
       " 'adding': 1,\n",
       " 'spectacles': 3,\n",
       " 'hjckrrh': 1,\n",
       " 'cherry': 1,\n",
       " 'had': 178,\n",
       " 'grumbled': 1,\n",
       " 'belongs': 2,\n",
       " 'easy': 3,\n",
       " 'prison': 1,\n",
       " 'save': 1,\n",
       " 'hat': 1,\n",
       " 'gave': 15,\n",
       " 'boxed': 1,\n",
       " 'mayn': 1,\n",
       " 'possible': 1,\n",
       " 'possibly': 3,\n",
       " 'dreamy': 1,\n",
       " 'flamingoes': 2,\n",
       " 'afore': 1,\n",
       " 'destroy': 2,\n",
       " 'judge': 4,\n",
       " 'replace': 1,\n",
       " 'burnt': 1,\n",
       " 'shoulder': 4,\n",
       " 'sorrows': 1,\n",
       " 'appearing': 2,\n",
       " 'uncivil': 1,\n",
       " 'seaside': 1,\n",
       " 'alice': 403,\n",
       " 'quadrille': 4,\n",
       " 'specific': 1,\n",
       " 'renamed': 1,\n",
       " 'officer': 1,\n",
       " 'night': 5,\n",
       " 'hung': 1,\n",
       " 'towards': 1,\n",
       " 'www': 6,\n",
       " 'right': 36,\n",
       " 'old': 21,\n",
       " 'deal': 12,\n",
       " 'people': 16,\n",
       " 'sends': 1,\n",
       " 'crown': 3,\n",
       " 'somehow': 1,\n",
       " 'dead': 4,\n",
       " '50': 1,\n",
       " 'clubs': 1,\n",
       " 'escape': 4,\n",
       " 'dear': 29,\n",
       " 'straightening': 1,\n",
       " 'bore': 1,\n",
       " 'goldfish': 2,\n",
       " 'creep': 1,\n",
       " 'confusing': 3,\n",
       " 'denies': 1,\n",
       " 'for': 179,\n",
       " 'bottom': 4,\n",
       " 'purple': 1,\n",
       " 'ear': 6,\n",
       " 'everything': 14,\n",
       " 'asking': 5,\n",
       " 'shakespeare': 1,\n",
       " 'denied': 2,\n",
       " 'serpents': 3,\n",
       " 'beating': 2,\n",
       " 'christmas': 1,\n",
       " 'pinched': 2,\n",
       " 'knew': 15,\n",
       " 'burn': 2,\n",
       " 'disappeared': 2,\n",
       " 'lamps': 1,\n",
       " 'paid': 6,\n",
       " 'losing': 1,\n",
       " 'bowing': 1,\n",
       " 'permitted': 3,\n",
       " 'takes': 3,\n",
       " 'wept': 1,\n",
       " 'limitation': 3,\n",
       " 'theirs': 1,\n",
       " 'newspapers': 1,\n",
       " 'injure': 1,\n",
       " 'choke': 1,\n",
       " 'o': 6,\n",
       " 'costs': 2,\n",
       " 'dinner': 2,\n",
       " 'despair': 1,\n",
       " 'permission': 7,\n",
       " 'sluggard': 1,\n",
       " 'raised': 2,\n",
       " 'sob': 1,\n",
       " 'statements': 1,\n",
       " 'facility': 1,\n",
       " 'wasting': 2,\n",
       " 'puzzle': 1,\n",
       " 'obtaining': 2,\n",
       " 'delighted': 2,\n",
       " 'cauldron': 2,\n",
       " 'son': 1,\n",
       " 'stop': 6,\n",
       " 'respectable': 1,\n",
       " 'bats': 4,\n",
       " 'lieu': 2,\n",
       " 'balanced': 1,\n",
       " 'federal': 2,\n",
       " 'frightened': 7,\n",
       " 'methods': 1,\n",
       " 'cleared': 1,\n",
       " 'crowd': 4,\n",
       " 'wag': 1,\n",
       " 'support': 4,\n",
       " 'sneezing': 6,\n",
       " 'fight': 2,\n",
       " 'derision': 1,\n",
       " 'morcar': 2,\n",
       " 'call': 9,\n",
       " 'was': 358,\n",
       " 'happy': 1,\n",
       " 'fork': 1,\n",
       " 'head': 50,\n",
       " 'creation': 1,\n",
       " 'waistcoat': 2,\n",
       " 'form': 5,\n",
       " 'offer': 2,\n",
       " 'attempted': 1,\n",
       " 'becoming': 1,\n",
       " 'back': 39,\n",
       " 'failure': 1,\n",
       " 'hear': 15,\n",
       " 'heap': 1,\n",
       " 'boon': 1,\n",
       " 'removed': 4,\n",
       " 'true': 4,\n",
       " 'flavour': 1,\n",
       " 'rippling': 1,\n",
       " 'inside': 2,\n",
       " 'fills': 1,\n",
       " 'attached': 1,\n",
       " 'maximum': 1,\n",
       " 'until': 5,\n",
       " 'note': 2,\n",
       " 'scream': 2,\n",
       " 'unusually': 1,\n",
       " 'temper': 5,\n",
       " 'proud': 2,\n",
       " 'proved': 2,\n",
       " 'sticks': 1,\n",
       " 'screaming': 1,\n",
       " 'fury': 3,\n",
       " 'toss': 1,\n",
       " 'paragraphs': 3,\n",
       " 'muscular': 1,\n",
       " 'drive': 2,\n",
       " 'howling': 3,\n",
       " 'guessed': 3,\n",
       " 'promised': 1,\n",
       " 'melan': 1,\n",
       " 'curious': 19,\n",
       " 'accounting': 1,\n",
       " 'archive': 13,\n",
       " 'peeping': 1,\n",
       " 'solicitation': 1,\n",
       " 'floor': 3,\n",
       " 'generally': 7,\n",
       " 'handed': 3,\n",
       " 'tis': 5,\n",
       " 'beheading': 1,\n",
       " 'setting': 1,\n",
       " 'holding': 3,\n",
       " 'tie': 1,\n",
       " 'vanished': 4,\n",
       " 'shrink': 1,\n",
       " 'saucepans': 1,\n",
       " 'picture': 1,\n",
       " 'pronounced': 1,\n",
       " 'ointment': 1,\n",
       " 'welcome': 1,\n",
       " 'skirt': 1,\n",
       " 'fell': 6,\n",
       " 'ridges': 1,\n",
       " 'inkstand': 1,\n",
       " 'unlocking': 1,\n",
       " 'died': 1,\n",
       " 'puss': 1,\n",
       " 'spades': 1,\n",
       " 'cheated': 1,\n",
       " 'together': 9,\n",
       " 'beds': 2,\n",
       " 'longed': 2,\n",
       " 'contemptuous': 1,\n",
       " 'time': 71,\n",
       " 'push': 1,\n",
       " '6221541': 1,\n",
       " 'treading': 2,\n",
       " 'profits': 1,\n",
       " 'concept': 2,\n",
       " 'managed': 4,\n",
       " 'chain': 1,\n",
       " 'whoever': 1,\n",
       " 'dance': 13,\n",
       " 'untwist': 1,\n",
       " 'fulcrum': 1,\n",
       " 'invent': 1,\n",
       " 'crocodile': 1,\n",
       " 'mile': 2,\n",
       " 'chair': 1,\n",
       " 'displaying': 4,\n",
       " 'milk': 2,\n",
       " 'row': 2,\n",
       " 'certainly': 14,\n",
       " 'father': 6,\n",
       " 'passage': 4,\n",
       " '0': 1,\n",
       " 'charge': 6,\n",
       " 'unpleasant': 2,\n",
       " 'promoting': 2,\n",
       " 'terror': 1,\n",
       " 'circumstances': 1,\n",
       " 'agreed': 1,\n",
       " 'jogged': 1,\n",
       " 'fancied': 2,\n",
       " 'brown': 2,\n",
       " 'downloading': 1,\n",
       " 'made': 30,\n",
       " 'keeping': 4,\n",
       " 'hatter': 56,\n",
       " 'choice': 2,\n",
       " 'liability': 3,\n",
       " 'stays': 1,\n",
       " 'cook': 13,\n",
       " 'ma': 3,\n",
       " 'trouble': 6,\n",
       " 'exact': 1,\n",
       " 'feeble': 2,\n",
       " 'minute': 21,\n",
       " 'cool': 2,\n",
       " 'sighed': 5,\n",
       " 'presented': 1,\n",
       " 'did': 63,\n",
       " 'turns': 3,\n",
       " 'dig': 1,\n",
       " 'brother': 1,\n",
       " 'leave': 9,\n",
       " 'settle': 1,\n",
       " 'quick': 2,\n",
       " 'teaching': 1,\n",
       " 'scaly': 1,\n",
       " 'round': 41,\n",
       " 'prevent': 2,\n",
       " 'brave': 1,\n",
       " 'says': 4,\n",
       " 'tougher': 1,\n",
       " 'sigh': 4,\n",
       " 'discover': 1,\n",
       " 'sign': 1,\n",
       " 'cost': 4,\n",
       " 'dried': 1,\n",
       " 'eating': 1,\n",
       " 'helpless': 1,\n",
       " 'irritated': 1,\n",
       " 'appear': 3,\n",
       " 'assistance': 1,\n",
       " 'axes': 1,\n",
       " 'uniform': 1,\n",
       " 'current': 1,\n",
       " 'paragraph': 11,\n",
       " 'lazily': 1,\n",
       " 'goes': 7,\n",
       " 'reply': 5,\n",
       " 'falling': 2,\n",
       " 'geography': 1,\n",
       " 'filled': 3,\n",
       " 'growls': 1,\n",
       " 'jury': 22,\n",
       " 'partners': 1,\n",
       " 'honour': 4,\n",
       " 'v': 1,\n",
       " 'french': 4,\n",
       " 'water': 5,\n",
       " 'corporation': 1,\n",
       " 'twentieth': 1,\n",
       " 'yards': 1,\n",
       " 'address': 1,\n",
       " 'hoarse': 3,\n",
       " 'along': 6,\n",
       " 'appears': 1,\n",
       " 'change': 15,\n",
       " 'wait': 1,\n",
       " 'box': 10,\n",
       " 'sending': 3,\n",
       " 'thirty': 1,\n",
       " 'impatiently': 5,\n",
       " 'lazy': 1,\n",
       " 'wherever': 2,\n",
       " 'united': 10,\n",
       " 'gryphon': 55,\n",
       " 'trial': 10,\n",
       " 'usually': 2,\n",
       " 'shifting': 1,\n",
       " 'quarrel': 1,\n",
       " 'useful': 2,\n",
       " 'morals': 1,\n",
       " 'extra': 1,\n",
       " 'hopeful': 1,\n",
       " 'merely': 2,\n",
       " 'marked': 8,\n",
       " 'inquisitively': 1,\n",
       " 'puffed': 1,\n",
       " 'swallowed': 1,\n",
       " 'stingy': 1,\n",
       " 'everybody': 8,\n",
       " 'driest': 1,\n",
       " 'angry': 5,\n",
       " 'visit': 3,\n",
       " 'only': 52,\n",
       " 'france': 1,\n",
       " 'expend': 1,\n",
       " 'live': 8,\n",
       " 'wood': 8,\n",
       " 'somersault': 2,\n",
       " 'wondering': 7,\n",
       " 'teeth': 1,\n",
       " 'associated': 8,\n",
       " 'today': 1,\n",
       " 'loving': 1,\n",
       " 'chapter': 12,\n",
       " 'entrance': 1,\n",
       " 'sharing': 2,\n",
       " 'afford': 1,\n",
       " 'flying': 1,\n",
       " 'teases': 1,\n",
       " 'ignorant': 1,\n",
       " 'oop': 7,\n",
       " 'effort': 2,\n",
       " 'fly': 3,\n",
       " 'deserved': 1,\n",
       " 'pretend': 1,\n",
       " 'modified': 1,\n",
       " 'longitude': 2,\n",
       " 'cat': 37,\n",
       " 'soup': 18,\n",
       " 'sour': 1,\n",
       " 'can': 73,\n",
       " 'growing': 11,\n",
       " 'making': 8,\n",
       " 'dispute': 2,\n",
       " 'laughter': 1,\n",
       " 'slightest': 1,\n",
       " 'heart': 2,\n",
       " 'crazy': 1,\n",
       " 'frontispiece': 1,\n",
       " 'nursing': 3,\n",
       " 'figure': 3,\n",
       " 'december': 1,\n",
       " 'arise': 1,\n",
       " 'carroll': 4,\n",
       " 'confused': 4,\n",
       " 'agent': 1,\n",
       " 'paused': 1,\n",
       " 'heard': 30,\n",
       " 'chin': 7,\n",
       " 'dropped': 5,\n",
       " 'phrase': 4,\n",
       " 'counting': 1,\n",
       " 'stole': 2,\n",
       " 'evidently': 1,\n",
       " 'pink': 1,\n",
       " 'requirements': 4,\n",
       " 'winter': 1,\n",
       " 'fortunately': 1,\n",
       " 'buttered': 1,\n",
       " 'watching': 3,\n",
       " 'pine': 1,\n",
       " 'write': 6,\n",
       " 'till': 21,\n",
       " 'fourth': 1,\n",
       " 'stigand': 1,\n",
       " 'condemn': 1,\n",
       " 'may': 28,\n",
       " 'dive': 1,\n",
       " 'spot': 1,\n",
       " 'cease': 1,\n",
       " 'crashed': 1,\n",
       " 'birthday': 1,\n",
       " 'tipped': 1,\n",
       " 'mad': 15,\n",
       " 'date': 4,\n",
       " 'such': 47,\n",
       " 'data': 1,\n",
       " 'grow': 13,\n",
       " 'man': 5,\n",
       " 'scrambling': 1,\n",
       " 'classics': 1,\n",
       " 'natural': 4,\n",
       " 'remember': 14,\n",
       " 'succeeded': 3,\n",
       " 'whenever': 2,\n",
       " 'maybe': 2,\n",
       " 'daisies': 1,\n",
       " 'tale': 4,\n",
       " 'provide': 7,\n",
       " 'suet': 1,\n",
       " 'so': 152,\n",
       " 'crept': 1,\n",
       " 'offend': 1,\n",
       " 'arrived': 1,\n",
       " 'pulled': 1,\n",
       " 'talk': 14,\n",
       " 'recognised': 1,\n",
       " 'refund': 10,\n",
       " 'unsolicited': 1,\n",
       " 'shoes': 7,\n",
       " 'seeing': 1,\n",
       " 'indeed': 16,\n",
       " ...}"
      ]
     },
     "execution_count": 11,
     "metadata": {},
     "output_type": "execute_result"
    }
   ],
   "source": [
    "counts"
   ]
  },
  {
   "cell_type": "code",
   "execution_count": 12,
   "metadata": {
    "collapsed": false
   },
   "outputs": [],
   "source": [
    "del counts['']"
   ]
  },
  {
   "cell_type": "code",
   "execution_count": 13,
   "metadata": {
    "collapsed": false
   },
   "outputs": [],
   "source": [
    "w_keys = counts.keys()\n",
    "w_keys.sort()\n",
    "outfile = open('/Users/z013kmz/Desktop/DS_Training_Sept2016/Day1_Homework/Alice_word.txt.txt', 'w')\n",
    "outfile.write(\"Word \\t \\t Count \\n\")\n",
    "outfile.write(\"======================= \\n\")\n",
    "for word in w_keys:\n",
    "    outfile.write(\"%-12s%d\\n\" % (word.lower(), counts[word]))\n",
    "outfile.close()"
   ]
  },
  {
   "cell_type": "code",
   "execution_count": 14,
   "metadata": {
    "collapsed": false
   },
   "outputs": [
    {
     "name": "stdout",
     "output_type": "stream",
     "text": [
      "403\n"
     ]
    }
   ],
   "source": [
    "print counts['alice']"
   ]
  },
  {
   "cell_type": "code",
   "execution_count": null,
   "metadata": {
    "collapsed": true
   },
   "outputs": [],
   "source": []
  },
  {
   "cell_type": "markdown",
   "metadata": {},
   "source": [
    "# Exercise 4"
   ]
  },
  {
   "cell_type": "code",
   "execution_count": null,
   "metadata": {
    "collapsed": false
   },
   "outputs": [],
   "source": []
  },
  {
   "cell_type": "code",
   "execution_count": 1,
   "metadata": {
    "collapsed": true
   },
   "outputs": [],
   "source": [
    "book_text = open('/Users/z013kmz/Desktop/DS_Training_Sept2016/Day1_Homework/book.txt', 'r')\n",
    "text = book_text.readlines()\n",
    "import sys, re, string\n",
    "def alphaNumericWordTokenizer(line):\n",
    "    #preprocess the string; \n",
    "    #  focus on alphanumeric token\n",
    "    #  replace repeating spaces/tab with a single space\n",
    "    regex = re.compile('[%s]' % re.escape(string.punctuation))\n",
    "    #replace each punctuation character with a space\n",
    "    line = regex.sub(' ', line.lower())  \n",
    "\n",
    "    #replace multiple spacees with a single space\n",
    "    line = re.sub( '\\s+', ' ', line) \n",
    "    # split the line into words\n",
    "    words = line.split(\" \")\n",
    "    return(words)"
   ]
  },
  {
   "cell_type": "code",
   "execution_count": 2,
   "metadata": {
    "collapsed": false
   },
   "outputs": [
    {
     "name": "stdout",
     "output_type": "stream",
     "text": [
      "('Longest word is', ('unenforceability', 16))\n"
     ]
    }
   ],
   "source": [
    "len2 = {}\n",
    "empty_list = []\n",
    "for line in text:\n",
    "    words = alphaNumericWordTokenizer(line)\n",
    "    for w in words:\n",
    "        len2[w] = len(w)\n",
    "empty_list = sorted(len2.items(), key=lambda x: (-x[1], x[0]))\n",
    "print(\"Longest word is\", empty_list[0])"
   ]
  },
  {
   "cell_type": "code",
   "execution_count": null,
   "metadata": {
    "collapsed": true
   },
   "outputs": [],
   "source": []
  }
 ],
 "metadata": {
  "anaconda-cloud": {},
  "kernelspec": {
   "display_name": "Python [Root]",
   "language": "python",
   "name": "Python [Root]"
  },
  "language_info": {
   "codemirror_mode": {
    "name": "ipython",
    "version": 2
   },
   "file_extension": ".py",
   "mimetype": "text/x-python",
   "name": "python",
   "nbconvert_exporter": "python",
   "pygments_lexer": "ipython2",
   "version": "2.7.12"
  }
 },
 "nbformat": 4,
 "nbformat_minor": 0
}
